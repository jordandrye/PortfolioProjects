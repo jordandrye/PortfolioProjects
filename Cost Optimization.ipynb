{
 "cells": [
  {
   "cell_type": "code",
   "execution_count": 24,
   "metadata": {},
   "outputs": [],
   "source": [
    "# import Glop package\n",
    "from ortools.linear_solver import pywraplp as glp\n",
    "import lptools as lpt"
   ]
  },
  {
   "cell_type": "code",
   "execution_count": 25,
   "metadata": {},
   "outputs": [],
   "source": [
    "#Create MILP model object\n",
    "mymodel = glp.Solver('GolfballMania', glp.Solver.CBC_MIXED_INTEGER_PROGRAMMING)"
   ]
  },
  {
   "cell_type": "code",
   "execution_count": 26,
   "metadata": {},
   "outputs": [
    {
     "data": {
      "text/plain": [
       "<bound method Objective.SetMinimization of <ortools.linear_solver.pywraplp.Objective; proxy of <Swig Object of type 'operations_research::MPObjective *' at 0x000001EC3534E660> >>"
      ]
     },
     "execution_count": 26,
     "metadata": {},
     "output_type": "execute_result"
    }
   ],
   "source": [
    "inf = mymodel.infinity()\n",
    "\n",
    "         # name: supply capacity (thousands), fixed cost (thousand $), unit shipping cost ($) to each RDC\n",
    "source = {'Cincinnati': (40, 400, [2, 12, 7, 8]),    # Cincinnati\n",
    "          'Pittsburgh': (20, 200, [15, 13, 14, 10]),    # Pittsburgh\n",
    "          'Chicago': (18, 180, [15, 13, 14, 17]),    # Chicago\n",
    "          'Louisville': (25, 250, [8, 17, 9, 12]),   # Louisville\n",
    "          'Indianapolis': (30, 300, [8, 13, 10, 11])} #Indianapolis\n",
    "\n",
    "        # name: demand quantity required (thousands)\n",
    "demand = {'Los Angeles': 36, 'Toledo': 22, 'Dayton': 28, 'Columbus': 20}  \n",
    "\n",
    "mymodel.Objective().SetMinimization    # minimize total plant and transportation cost"
   ]
  },
  {
   "cell_type": "code",
   "execution_count": 27,
   "metadata": {},
   "outputs": [],
   "source": [
    "# create binary Plant selection variables and a dictionary to access them\n",
    "select = dict()\n",
    "for s in source:\n",
    "    select[s] = mymodel.IntVar(0,1,s)\n",
    "    (b, f, coeff_lst) = source[s]\n",
    "    mymodel.Objective().SetCoefficient(select[s], f)"
   ]
  },
  {
   "cell_type": "code",
   "execution_count": 28,
   "metadata": {},
   "outputs": [],
   "source": [
    "# create shipment variables from Plants to RDCs and a dictionary to access them\n",
    "ship = dict()\n",
    "for s in source:\n",
    "    ship[s] = dict()\n",
    "    (b, f, coeff_lst) = source[s]\n",
    "    for (d,c) in zip(demand,coeff_lst):\n",
    "        ship[s][d] = mymodel.NumVar(0, inf, s + '.' + d)\n",
    "        mymodel.Objective().SetCoefficient(ship[s][d],c)"
   ]
  },
  {
   "cell_type": "code",
   "execution_count": 29,
   "metadata": {},
   "outputs": [],
   "source": [
    "# create source/supply constraints\n",
    "for s in source:\n",
    "    (b,f,coeff_lst) = source[s]\n",
    "    constr = mymodel.Constraint(-inf, 0, s)\n",
    "    constr.SetCoefficient(select[s], -b)\n",
    "    for d in demand:\n",
    "        constr.SetCoefficient(ship[s][d], 1)"
   ]
  },
  {
   "cell_type": "code",
   "execution_count": 30,
   "metadata": {},
   "outputs": [],
   "source": [
    "# create demand constraints\n",
    "for d in demand:\n",
    "    lb = ub = demand[d]\n",
    "    constr = mymodel.Constraint(lb,ub,d)\n",
    "    for s in source:\n",
    "        constr.SetCoefficient(ship[s][d], 1)"
   ]
  },
  {
   "cell_type": "code",
   "execution_count": 31,
   "metadata": {},
   "outputs": [
    {
     "name": "stdout",
     "output_type": "stream",
     "text": [
      "Variables:\n",
      "Cincinnati, Pittsburgh, Chicago, Louisville, Indianapolis, Cincinnati.Los Angeles, Cincinnati.Toledo, Cincinnati.Dayton, Cincinnati.Columbus, Pittsburgh.Los Angeles, Pittsburgh.Toledo, Pittsburgh.Dayton, Pittsburgh.Columbus, Chicago.Los Angeles, Chicago.Toledo, Chicago.Dayton, Chicago.Columbus, Louisville.Los Angeles, Louisville.Toledo, Louisville.Dayton, Louisville.Columbus, Indianapolis.Los Angeles, Indianapolis.Toledo, Indianapolis.Dayton, Indianapolis.Columbus \n",
      "\n",
      "minimize: 400.0*Cincinnati + 200.0*Pittsburgh + 180.0*Chicago + 250.0*Louisville + 300.0*Indianapolis + 2.0*Cincinnati.Los Angeles + 12.0*Cincinnati.Toledo + 7.0*Cincinnati.Dayton + 8.0*Cincinnati.Columbus + 15.0*Pittsburgh.Los Angeles + 13.0*Pittsburgh.Toledo + 14.0*Pittsburgh.Dayton + 10.0*Pittsburgh.Columbus + 15.0*Chicago.Los Angeles + 13.0*Chicago.Toledo + 14.0*Chicago.Dayton + 17.0*Chicago.Columbus + 8.0*Louisville.Los Angeles + 17.0*Louisville.Toledo + 9.0*Louisville.Dayton + 12.0*Louisville.Columbus + 8.0*Indianapolis.Los Angeles + 13.0*Indianapolis.Toledo + 10.0*Indianapolis.Dayton + 11.0*Indianapolis.Columbus \n",
      "\n",
      "Subject To:\n",
      "Cincinnati: - 40.0*Cincinnati + 1.0*Cincinnati.Los Angeles + 1.0*Cincinnati.Toledo + 1.0*Cincinnati.Dayton + 1.0*Cincinnati.Columbus <= 0.0\n",
      "Pittsburgh: - 20.0*Pittsburgh + 1.0*Pittsburgh.Los Angeles + 1.0*Pittsburgh.Toledo + 1.0*Pittsburgh.Dayton + 1.0*Pittsburgh.Columbus <= 0.0\n",
      "Chicago: - 18.0*Chicago + 1.0*Chicago.Los Angeles + 1.0*Chicago.Toledo + 1.0*Chicago.Dayton + 1.0*Chicago.Columbus <= 0.0\n",
      "Louisville: - 25.0*Louisville + 1.0*Louisville.Los Angeles + 1.0*Louisville.Toledo + 1.0*Louisville.Dayton + 1.0*Louisville.Columbus <= 0.0\n",
      "Indianapolis: - 30.0*Indianapolis + 1.0*Indianapolis.Los Angeles + 1.0*Indianapolis.Toledo + 1.0*Indianapolis.Dayton + 1.0*Indianapolis.Columbus <= 0.0\n",
      "Los Angeles: 1.0*Cincinnati.Los Angeles + 1.0*Pittsburgh.Los Angeles + 1.0*Chicago.Los Angeles + 1.0*Louisville.Los Angeles + 1.0*Indianapolis.Los Angeles = 36.0\n",
      "Toledo: 1.0*Cincinnati.Toledo + 1.0*Pittsburgh.Toledo + 1.0*Chicago.Toledo + 1.0*Louisville.Toledo + 1.0*Indianapolis.Toledo = 22.0\n",
      "Dayton: 1.0*Cincinnati.Dayton + 1.0*Pittsburgh.Dayton + 1.0*Chicago.Dayton + 1.0*Louisville.Dayton + 1.0*Indianapolis.Dayton = 28.0\n",
      "Columbus: 1.0*Cincinnati.Columbus + 1.0*Pittsburgh.Columbus + 1.0*Chicago.Columbus + 1.0*Louisville.Columbus + 1.0*Indianapolis.Columbus = 20.0\n",
      "\n",
      "Bounds:\n",
      "0.0 <= Cincinnati <= 1.0\n",
      "0.0 <= Pittsburgh <= 1.0\n",
      "0.0 <= Chicago <= 1.0\n",
      "0.0 <= Louisville <= 1.0\n",
      "0.0 <= Indianapolis <= 1.0\n",
      "Cincinnati.Los Angeles >= 0.0\n",
      "Cincinnati.Toledo >= 0.0\n",
      "Cincinnati.Dayton >= 0.0\n",
      "Cincinnati.Columbus >= 0.0\n",
      "Pittsburgh.Los Angeles >= 0.0\n",
      "Pittsburgh.Toledo >= 0.0\n",
      "Pittsburgh.Dayton >= 0.0\n",
      "Pittsburgh.Columbus >= 0.0\n",
      "Chicago.Los Angeles >= 0.0\n",
      "Chicago.Toledo >= 0.0\n",
      "Chicago.Dayton >= 0.0\n",
      "Chicago.Columbus >= 0.0\n",
      "Louisville.Los Angeles >= 0.0\n",
      "Louisville.Toledo >= 0.0\n",
      "Louisville.Dayton >= 0.0\n",
      "Louisville.Columbus >= 0.0\n",
      "Indianapolis.Los Angeles >= 0.0\n",
      "Indianapolis.Toledo >= 0.0\n",
      "Indianapolis.Dayton >= 0.0\n",
      "Indianapolis.Columbus >= 0.0\n"
     ]
    }
   ],
   "source": [
    "lpt.print_model(mymodel)"
   ]
  },
  {
   "cell_type": "code",
   "execution_count": 32,
   "metadata": {},
   "outputs": [
    {
     "name": "stdout",
     "output_type": "stream",
     "text": [
      "Solution Status = 0\n",
      "Optimal Value = 1906.00 thousand\n",
      "Cincinnati =  1.00\n",
      "Pittsburgh =  1.00\n",
      "Chicago =  1.00\n",
      "Indianapolis =  1.00\n",
      "Cincinnati.Los Angeles = 36.00\n",
      "Cincinnati.Dayton =  4.00\n",
      "Pittsburgh.Columbus = 20.00\n",
      "Chicago.Toledo = 16.00\n",
      "Indianapolis.Toledo =  6.00\n",
      "Indianapolis.Dayton = 24.00\n"
     ]
    }
   ],
   "source": [
    "#solve model and display results\n",
    "status = mymodel.Solve()\n",
    "print('Solution Status =',status)\n",
    "print('Optimal Value = %.2f thousand' % mymodel.Objective().Value())\n",
    "for v in mymodel.variables():\n",
    "    if v.solution_value() != 0:\n",
    "        print('%7s = %5.2f' % (v.name(),v.solution_value()))"
   ]
  },
  {
   "cell_type": "code",
   "execution_count": 33,
   "metadata": {},
   "outputs": [
    {
     "name": "stdout",
     "output_type": "stream",
     "text": [
      "Variable    LB   Value    UB\n",
      "Cincinnati    0.0    1.0    1.0\n",
      "Pittsburgh    0.0    1.0    1.0\n",
      " Chicago    0.0    1.0    1.0\n",
      "Louisville    0.0    0.0    1.0\n",
      "Indianapolis    0.0    1.0    1.0\n",
      "Cincinnati.Los Angeles    0.0   36.0    inf\n",
      "Cincinnati.Toledo    0.0    0.0    inf\n",
      "Cincinnati.Dayton    0.0    4.0    inf\n",
      "Cincinnati.Columbus    0.0    0.0    inf\n",
      "Pittsburgh.Los Angeles    0.0    0.0    inf\n",
      "Pittsburgh.Toledo    0.0    0.0    inf\n",
      "Pittsburgh.Dayton    0.0    0.0    inf\n",
      "Pittsburgh.Columbus    0.0   20.0    inf\n",
      "Chicago.Los Angeles    0.0    0.0    inf\n",
      "Chicago.Toledo    0.0   16.0    inf\n",
      "Chicago.Dayton    0.0    0.0    inf\n",
      "Chicago.Columbus    0.0    0.0    inf\n",
      "Louisville.Los Angeles    0.0    0.0    inf\n",
      "Louisville.Toledo    0.0    0.0    inf\n",
      "Louisville.Dayton    0.0    0.0    inf\n",
      "Louisville.Columbus    0.0    0.0    inf\n",
      "Indianapolis.Los Angeles    0.0    0.0    inf\n",
      "Indianapolis.Toledo    0.0    6.0    inf\n",
      "Indianapolis.Dayton    0.0   24.0    inf\n",
      "Indianapolis.Columbus    0.0    0.0    inf\n"
     ]
    }
   ],
   "source": [
    "# display all variable information\n",
    "print('Variable    LB   Value    UB')\n",
    "for v in mymodel.variables():\n",
    "    print('%8s  %5.1f  %5.1f  %5.1f' % (v.name(),v.lb(),v.solution_value(),v.ub()))"
   ]
  },
  {
   "cell_type": "code",
   "execution_count": 34,
   "metadata": {},
   "outputs": [
    {
     "name": "stdout",
     "output_type": "stream",
     "text": [
      "Constraint    LB    Value  UB\n",
      "Cincinnati   -inf    0.0    0.0\n",
      "Pittsburgh   -inf    0.0    0.0\n",
      "   Chicago   -inf   -2.0    0.0\n",
      "Louisville   -inf    0.0    0.0\n",
      "Indianapolis   -inf    0.0    0.0\n",
      "Los Angeles   36.0   36.0   36.0\n",
      "    Toledo   22.0   22.0   22.0\n",
      "    Dayton   28.0   28.0   28.0\n",
      "  Columbus   20.0   20.0   20.0\n"
     ]
    }
   ],
   "source": [
    "#display constraint information\n",
    "print('Constraint    LB    Value  UB')\n",
    "for (c,lhs) in zip(mymodel.constraints(),mymodel.ComputeConstraintActivities()):\n",
    "    print('%10s  %5.1f  %5.1f  %5.1f' % (c.name(),c.lb(),lhs,c.ub()))"
   ]
  }
 ],
 "metadata": {
  "kernelspec": {
   "display_name": "Python 3 (ipykernel)",
   "language": "python",
   "name": "python3"
  },
  "language_info": {
   "codemirror_mode": {
    "name": "ipython",
    "version": 3
   },
   "file_extension": ".py",
   "mimetype": "text/x-python",
   "name": "python",
   "nbconvert_exporter": "python",
   "pygments_lexer": "ipython3",
   "version": "3.9.7"
  }
 },
 "nbformat": 4,
 "nbformat_minor": 4
}
